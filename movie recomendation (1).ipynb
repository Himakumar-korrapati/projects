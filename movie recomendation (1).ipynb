{
 "cells": [
  {
   "cell_type": "code",
   "execution_count": 5,
   "id": "9f57ec75-9748-4286-a574-c0a6da225e2a",
   "metadata": {},
   "outputs": [
    {
     "name": "stdout",
     "output_type": "stream",
     "text": [
      "hima's recommendations: The Dark Knight, Interstellar, Inception\n",
      "sai's recommendations: The Godfather, Joker\n",
      "ram's recommendations: Parasite\n"
     ]
    }
   ],
   "source": [
    "# List of movies with title, genre, and rating\n",
    "movies = [\n",
    "    {\"title\": \"Inception\", \"genre\": \"Sci-Fi\", \"rating\": 8.8},\n",
    "    {\"title\": \"The Godfather\", \"genre\": \"Crime\", \"rating\": 9.2},\n",
    "    {\"title\": \"The Dark Knight\", \"genre\": \"Action\", \"rating\": 9.0},\n",
    "    {\"title\": \"Parasite\", \"genre\": \"Thriller\", \"rating\": 8.6},\n",
    "    {\"title\": \"Interstellar\", \"genre\": \"Sci-Fi\", \"rating\": 8.6},\n",
    "    {\"title\": \"Joker\", \"genre\": \"Drama\", \"rating\": 8.5}\n",
    "]\n",
    "\n",
    "# Dictionary of user preferences\n",
    "user_preferences = {\n",
    "    \"hima\": [\"Sci-Fi\", \"Action\"],\n",
    "    \"sai\": [\"Crime\", \"Drama\"],\n",
    "    \"ram\": [\"Thriller\", \"Horror\"]\n",
    "}\n",
    "\n",
    "# Function to recommend movies based on user preferences\n",
    "def recommend_movies(user):\n",
    "    preferred_genres = set(user_preferences.get(user, []))\n",
    "    recommendations = set()\n",
    "    \n",
    "    for movie in movies:\n",
    "        if movie[\"genre\"] in preferred_genres:\n",
    "            recommendations.add(movie[\"title\"])\n",
    "    \n",
    "    return recommendations\n",
    "\n",
    "# Function to display movie recommendations for all users\n",
    "def display_recommendations():\n",
    "    for user in user_preferences:\n",
    "        recommendations = recommend_movies(user)\n",
    "        print(f\"{user}'s recommendations: {', '.join(recommendations)}\")\n",
    "\n",
    "# Example usage\n",
    "display_recommendations()\n"
   ]
  },
  {
   "cell_type": "code",
   "execution_count": null,
   "id": "d11e8817-8c9c-4a2d-9fe1-6add02bd5c7e",
   "metadata": {},
   "outputs": [],
   "source": []
  }
 ],
 "metadata": {
  "kernelspec": {
   "display_name": "Python 3 (ipykernel)",
   "language": "python",
   "name": "python3"
  },
  "language_info": {
   "codemirror_mode": {
    "name": "ipython",
    "version": 3
   },
   "file_extension": ".py",
   "mimetype": "text/x-python",
   "name": "python",
   "nbconvert_exporter": "python",
   "pygments_lexer": "ipython3",
   "version": "3.12.4"
  }
 },
 "nbformat": 4,
 "nbformat_minor": 5
}

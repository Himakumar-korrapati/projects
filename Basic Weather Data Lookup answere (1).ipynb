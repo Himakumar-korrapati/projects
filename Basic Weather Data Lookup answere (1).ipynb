{
 "cells": [
  {
   "cell_type": "code",
   "execution_count": 1,
   "id": "308200f1-572f-40d5-ab97-d0229b60bd54",
   "metadata": {},
   "outputs": [
    {
     "name": "stdin",
     "output_type": "stream",
     "text": [
      "Enter city name:  New York\n"
     ]
    },
    {
     "name": "stdout",
     "output_type": "stream",
     "text": [
      "Temperature: 22°C, Description: Partly cloudy\n"
     ]
    }
   ],
   "source": [
    "# Global variable to store mock weather data\n",
    "weather_data = {\n",
    "    'New York': {'temperature': 22, 'description': 'Partly cloudy'},\n",
    "    'Los Angeles': {'temperature': 26, 'description': 'Sunny'},\n",
    "    'London': {'temperature': 18, 'description': 'Rainy'},\n",
    "    'Tokyo': {'temperature': 24, 'description': 'Clear skies'}\n",
    "}\n",
    "\n",
    "# Function to fetch and format weather data\n",
    "def get_weather_report(city):\n",
    "    # Use a lambda function to format the weather data for a city\n",
    "    format_weather = lambda weather: f\"Temperature: {weather['temperature']}°C, Description: {weather['description']}\"\n",
    "    \n",
    "    # Check if the city is present in the global weather_data dictionary\n",
    "    if city in weather_data:\n",
    "        weather = weather_data[city]\n",
    "        return format_weather(weather)  # Return formatted weather report\n",
    "    else:\n",
    "        return \"Error: City not found.\"  # Error handling for invalid city\n",
    "\n",
    "# Main program to prompt user for city input and display the weather report\n",
    "def main():\n",
    "    city = input(\"Enter city name: \").strip()  # Accept user input and strip extra spaces\n",
    "    report = get_weather_report(city)\n",
    "    print(report)\n",
    "\n",
    "# Entry point of the program\n",
    "if __name__ == \"__main__\":\n",
    "    main()\n",
    "\n"
   ]
  },
  {
   "cell_type": "code",
   "execution_count": null,
   "id": "8092b389-1ae3-4d90-a43f-cf1ae97e6827",
   "metadata": {},
   "outputs": [],
   "source": [
    "\n"
   ]
  }
 ],
 "metadata": {
  "kernelspec": {
   "display_name": "Python 3 (ipykernel)",
   "language": "python",
   "name": "python3"
  },
  "language_info": {
   "codemirror_mode": {
    "name": "ipython",
    "version": 3
   },
   "file_extension": ".py",
   "mimetype": "text/x-python",
   "name": "python",
   "nbconvert_exporter": "python",
   "pygments_lexer": "ipython3",
   "version": "3.12.4"
  }
 },
 "nbformat": 4,
 "nbformat_minor": 5
}

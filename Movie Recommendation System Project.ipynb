{
 "cells": [
  {
   "cell_type": "code",
   "execution_count": 1,
   "id": "2d7ce5d7-e0fa-435a-87ac-d449e374557c",
   "metadata": {},
   "outputs": [
    {
     "name": "stdout",
     "output_type": "stream",
     "text": [
      "Unique Categories: {'Transport', 'Health', 'Entertainment', 'Food'}\n",
      "Expense Summary by Category: {'Transport': 15, 'Health': 40, 'Entertainment': 30, 'Food': 125}\n"
     ]
    }
   ],
   "source": [
    "# List to store expense entries (each entry is a tuple)\n",
    "expenses = [\n",
    "    (\"Groceries\", 100, \"Food\"),\n",
    "    (\"Bus fare\", 15, \"Transport\"),\n",
    "    (\"Lunch\", 25, \"Food\"),\n",
    "    (\"Movie ticket\", 30, \"Entertainment\"),\n",
    "    (\"Gym membership\", 40, \"Health\")\n",
    "]\n",
    "\n",
    "# Extract unique categories using sets\n",
    "categories = {expense[2] for expense in expenses}\n",
    "\n",
    "# Dictionary comprehension to summarize expenses by category\n",
    "expense_summary = {category: sum(expense[1] for expense in expenses if expense[2] == category) for category in categories}\n",
    "\n",
    "# Output results\n",
    "print(f\"Unique Categories: {categories}\")\n",
    "print(f\"Expense Summary by Category: {expense_summary}\")\n"
   ]
  },
  {
   "cell_type": "code",
   "execution_count": null,
   "id": "49a6c754-7e2a-466c-94e8-600f0d7728b5",
   "metadata": {},
   "outputs": [],
   "source": []
  }
 ],
 "metadata": {
  "kernelspec": {
   "display_name": "Python 3 (ipykernel)",
   "language": "python",
   "name": "python3"
  },
  "language_info": {
   "codemirror_mode": {
    "name": "ipython",
    "version": 3
   },
   "file_extension": ".py",
   "mimetype": "text/x-python",
   "name": "python",
   "nbconvert_exporter": "python",
   "pygments_lexer": "ipython3",
   "version": "3.12.4"
  }
 },
 "nbformat": 4,
 "nbformat_minor": 5
}

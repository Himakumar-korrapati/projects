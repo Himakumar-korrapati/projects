{
 "cells": [
  {
   "cell_type": "code",
   "execution_count": null,
   "id": "2dae37e9-0a1e-4df7-9ac5-479e7498a7af",
   "metadata": {},
   "outputs": [
    {
     "name": "stdout",
     "output_type": "stream",
     "text": [
      "Welcome to the Advanced Number Guessing Game with Hints!\n"
     ]
    },
    {
     "name": "stdin",
     "output_type": "stream",
     "text": [
      "Enter your guess between 1 and 100:  10\n"
     ]
    },
    {
     "name": "stdout",
     "output_type": "stream",
     "text": [
      "Too cold.\n"
     ]
    },
    {
     "name": "stdin",
     "output_type": "stream",
     "text": [
      "Enter your guess between 1 and 100:  20\n"
     ]
    },
    {
     "name": "stdout",
     "output_type": "stream",
     "text": [
      "You're hot!\n"
     ]
    },
    {
     "name": "stdin",
     "output_type": "stream",
     "text": [
      "Enter your guess between 1 and 100:  49\n"
     ]
    },
    {
     "name": "stdout",
     "output_type": "stream",
     "text": [
      "Too cold.\n"
     ]
    },
    {
     "name": "stdin",
     "output_type": "stream",
     "text": [
      "Enter your guess between 1 and 100:  55\n"
     ]
    },
    {
     "name": "stdout",
     "output_type": "stream",
     "text": [
      "Too cold.\n"
     ]
    },
    {
     "name": "stdin",
     "output_type": "stream",
     "text": [
      "Enter your guess between 1 and 100:  60\n"
     ]
    },
    {
     "name": "stdout",
     "output_type": "stream",
     "text": [
      "Too cold.\n"
     ]
    }
   ],
   "source": [
    "import random\n",
    "\n",
    "def generate_number(min_val, max_val):\n",
    "    \"\"\"Generates a random number between min_val and max_val.\"\"\"\n",
    "    return random.randint(min_val, max_val)\n",
    "\n",
    "def get_hint(guess, target):\n",
    "    \"\"\"Provides hints based on how close the guess is to the target number.\"\"\"\n",
    "    difference = abs(guess - target)\n",
    "    \n",
    "    if difference == 0:\n",
    "        return \"Congratulations! You guessed the correct number!\"\n",
    "    elif difference <= 2:\n",
    "        return \"You're burning hot!\"\n",
    "    elif difference <= 5:\n",
    "        return \"You're hot!\"\n",
    "    elif difference <= 10:\n",
    "        return \"You're warm.\"\n",
    "    else:\n",
    "        return \"Too cold.\"\n",
    "\n",
    "def play_game():\n",
    "    \"\"\"Main game loop with hints and scoring system.\"\"\"\n",
    "    print(\"Welcome to the Advanced Number Guessing Game with Hints!\")\n",
    "    \n",
    "    # Setting the range for the number to be guessed\n",
    "    min_val = 1\n",
    "    max_val = 100\n",
    "    target_number = generate_number(min_val, max_val)\n",
    "    \n",
    "    attempts = 0\n",
    "    score = 100  # Start with a perfect score of 100\n",
    "\n",
    "    while True:\n",
    "        try:\n",
    "            guess = int(input(f\"Enter your guess between {min_val} and {max_val}: \"))\n",
    "            attempts += 1\n",
    "            \n",
    "            if guess < min_val or guess > max_val:\n",
    "                print(f\"Please enter a number within the range {min_val}-{max_val}.\")\n",
    "                continue\n",
    "            \n",
    "            hint = get_hint(guess, target_number)\n",
    "            print(hint)\n",
    "            \n",
    "            if guess == target_number:\n",
    "                print(f\"You've guessed it in {attempts} attempts!\")\n",
    "                print(f\"Your final score is {score}.\\n\")\n",
    "                break\n",
    "            else:\n",
    "                # Adjust score based on closeness of guess\n",
    "                score -= abs(guess - target_number) // 2\n",
    "\n",
    "        except ValueError:\n",
    "            print(\"Invalid input. Please enter an integer.\")\n",
    "    \n",
    "    return score\n",
    "\n",
    "# Start the game\n",
    "play_game()\n"
   ]
  },
  {
   "cell_type": "code",
   "execution_count": null,
   "id": "08cf1428-67a5-4d92-8464-f55ddb70f382",
   "metadata": {},
   "outputs": [],
   "source": []
  }
 ],
 "metadata": {
  "kernelspec": {
   "display_name": "Python 3 (ipykernel)",
   "language": "python",
   "name": "python3"
  },
  "language_info": {
   "codemirror_mode": {
    "name": "ipython",
    "version": 3
   },
   "file_extension": ".py",
   "mimetype": "text/x-python",
   "name": "python",
   "nbconvert_exporter": "python",
   "pygments_lexer": "ipython3",
   "version": "3.12.4"
  }
 },
 "nbformat": 4,
 "nbformat_minor": 5
}

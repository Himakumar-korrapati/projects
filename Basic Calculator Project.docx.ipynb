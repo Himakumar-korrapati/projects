{
 "cells": [
  {
   "cell_type": "code",
   "execution_count": 1,
   "id": "e9a66390-3642-4a86-832d-3b87974b1642",
   "metadata": {},
   "outputs": [
    {
     "name": "stdout",
     "output_type": "stream",
     "text": [
      "Welcome to the Basic Calculator!\n"
     ]
    },
    {
     "name": "stdin",
     "output_type": "stream",
     "text": [
      "Enter the first number:  50\n",
      "Enter the second number:  25\n"
     ]
    },
    {
     "name": "stdout",
     "output_type": "stream",
     "text": [
      "Select an operation:\n",
      " + : Addition\n",
      " - : Subtraction\n",
      " * : Multiplication\n",
      " / : Division\n"
     ]
    },
    {
     "name": "stdin",
     "output_type": "stream",
     "text": [
      "Enter your choice (+, -, *, /):  +\n"
     ]
    },
    {
     "name": "stdout",
     "output_type": "stream",
     "text": [
      "The result of 50.0 + 25.0 is 75.00\n"
     ]
    }
   ],
   "source": [
    "def add(x, y):\n",
    "    return x + y\n",
    "\n",
    "def subtract(x, y):\n",
    "    return x - y\n",
    "\n",
    "def multiply(x, y):\n",
    "    return x * y\n",
    "\n",
    "def divide(x, y):\n",
    "    if y == 0:\n",
    "        return \"Error! Division by zero is not allowed.\"\n",
    "    return x / y\n",
    "\n",
    "def calculator():\n",
    "    print(\"Welcome to the Basic Calculator!\")\n",
    "\n",
    "    try:\n",
    "        \n",
    "        num1 = float(input(\"Enter the first number: \"))\n",
    "        num2 = float(input(\"Enter the second number: \"))\n",
    "\n",
    "        \n",
    "        print(\"Select an operation:\")\n",
    "        print(\" + : Addition\")\n",
    "        print(\" - : Subtraction\")\n",
    "        print(\" * : Multiplication\")\n",
    "        print(\" / : Division\")\n",
    "        operation = input(\"Enter your choice (+, -, *, /): \")\n",
    "\n",
    "        \n",
    "        if operation == '+':\n",
    "            result = add(num1, num2)\n",
    "            print(f\"The result of {num1} + {num2} is {result:.2f}\")\n",
    "        elif operation == '-':\n",
    "            result = subtract(num1, num2)\n",
    "            print(f\"The result of {num1} - {num2} is {result:.2f}\")\n",
    "        elif operation == '*':\n",
    "            result = multiply(num1, num2)\n",
    "            print(f\"The result of {num1} * {num2} is {result:.2f}\")\n",
    "        elif operation == '/':\n",
    "            result = divide(num1, num2)\n",
    "            if isinstance(result, str):  # Handle division by zero error\n",
    "                print(result)\n",
    "            else:\n",
    "                print(f\"The result of {num1} / {num2} is {result:.2f}\")\n",
    "        else:\n",
    "            print(\"Invalid operation! Please choose one of +, -, *, or /.\")\n",
    "\n",
    "    except ValueError:\n",
    "        print(\"Invalid input! Please enter numeric values.\")\n",
    "\n",
    "\n",
    "calculator()\n"
   ]
  },
  {
   "cell_type": "code",
   "execution_count": null,
   "id": "34f88e45-34e7-417c-8147-f707e9418521",
   "metadata": {},
   "outputs": [],
   "source": []
  }
 ],
 "metadata": {
  "kernelspec": {
   "display_name": "Python 3 (ipykernel)",
   "language": "python",
   "name": "python3"
  },
  "language_info": {
   "codemirror_mode": {
    "name": "ipython",
    "version": 3
   },
   "file_extension": ".py",
   "mimetype": "text/x-python",
   "name": "python",
   "nbconvert_exporter": "python",
   "pygments_lexer": "ipython3",
   "version": "3.12.4"
  }
 },
 "nbformat": 4,
 "nbformat_minor": 5
}

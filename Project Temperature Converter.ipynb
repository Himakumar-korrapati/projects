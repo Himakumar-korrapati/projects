{
 "cells": [
  {
   "cell_type": "code",
   "execution_count": 14,
   "id": "72cb88ed-3f2d-403d-9b3e-e243f4e5d63b",
   "metadata": {},
   "outputs": [
    {
     "name": "stdout",
     "output_type": "stream",
     "text": [
      "Temperature Converter: Convert between Celsius (C), Fahrenheit (F), and Kelvin (K).\n"
     ]
    },
    {
     "name": "stdin",
     "output_type": "stream",
     "text": [
      "Enter the temperature:  98\n",
      "Enter the unit of the temperature (C, F, K):  C\n",
      "Enter the unit to convert to (C, F, K):  F\n"
     ]
    },
    {
     "name": "stdout",
     "output_type": "stream",
     "text": [
      "98.0°C is equal to 208.40°F\n"
     ]
    }
   ],
   "source": [
    "def celsius_to_fahrenheit(celsius):\n",
    "    return (celsius * 9/5) + 32\n",
    "\n",
    "def celsius_to_kelvin(celsius):\n",
    "    return celsius + 273.15\n",
    "\n",
    "def fahrenheit_to_celsius(fahrenheit):\n",
    "    return (fahrenheit - 32) * 5/9\n",
    "\n",
    "def fahrenheit_to_kelvin(fahrenheit):\n",
    "    return (fahrenheit - 32) * 5/9 + 273.15\n",
    "\n",
    "def kelvin_to_celsius(kelvin):\n",
    "    return kelvin - 273.15\n",
    "\n",
    "def kelvin_to_fahrenheit(kelvin):\n",
    "    return (kelvin - 273.15) * 9/5 + 32\n",
    "\n",
    "def temperature_converter():\n",
    "    print(\"Temperature Converter: Convert between Celsius (C), Fahrenheit (F), and Kelvin (K).\")\n",
    "    \n",
    "    try:\n",
    "       \n",
    "        temp = float(input(\"Enter the temperature: \"))\n",
    "        \n",
    "       \n",
    "        from_unit = input(\"Enter the unit of the temperature (C, F, K): \").upper()\n",
    "        if from_unit not in ['C', 'F', 'K']:\n",
    "            print(\"Invalid input unit! Please enter C for Celsius, F for Fahrenheit, or K for Kelvin.\")\n",
    "            return\n",
    "        \n",
    "       \n",
    "        to_unit = input(\"Enter the unit to convert to (C, F, K): \").upper()\n",
    "        if to_unit not in ['C', 'F', 'K']:\n",
    "            print(\"Invalid output unit! Please enter C for Celsius, F for Fahrenheit, or K for Kelvin.\")\n",
    "            return\n",
    "\n",
    "        \n",
    "        if from_unit == 'C':\n",
    "            if to_unit == 'F':\n",
    "                result = celsius_to_fahrenheit(temp)\n",
    "                print(f\"{temp}°C is equal to {result:.2f}°F\")\n",
    "            elif to_unit == 'K':\n",
    "                result = celsius_to_kelvin(temp)\n",
    "                print(f\"{temp}°C is equal to {result:.2f}K\")\n",
    "        \n",
    "        elif from_unit == 'F':\n",
    "            if to_unit == 'C':\n",
    "                result = fahrenheit_to_celsius(temp)\n",
    "                print(f\"{temp}°F is equal to {result:.2f}°C\")\n",
    "            elif to_unit == 'K':\n",
    "                result = fahrenheit_to_kelvin(temp)\n",
    "                print(f\"{temp}°F is equal to {result:.2f}K\")\n",
    "        \n",
    "        elif from_unit == 'K':\n",
    "            if to_unit == 'C':\n",
    "                result = kelvin_to_celsius(temp)\n",
    "                print(f\"{temp}K is equal to {result:.2f}°C\")\n",
    "            elif to_unit == 'F':\n",
    "                result = kelvin_to_fahrenheit(temp)\n",
    "                print(f\"{temp}K is equal to {result:.2f}°F\")\n",
    "    \n",
    "    except ValueError:\n",
    "        print(\"Invalid input! Please enter a valid number for the temperature.\")\n",
    "\n",
    "\n",
    "temperature_converter()\n"
   ]
  },
  {
   "cell_type": "code",
   "execution_count": null,
   "id": "13fe3bbe-2a05-46f5-8dee-e59ee091e747",
   "metadata": {},
   "outputs": [],
   "source": []
  }
 ],
 "metadata": {
  "kernelspec": {
   "display_name": "Python 3 (ipykernel)",
   "language": "python",
   "name": "python3"
  },
  "language_info": {
   "codemirror_mode": {
    "name": "ipython",
    "version": 3
   },
   "file_extension": ".py",
   "mimetype": "text/x-python",
   "name": "python",
   "nbconvert_exporter": "python",
   "pygments_lexer": "ipython3",
   "version": "3.12.4"
  }
 },
 "nbformat": 4,
 "nbformat_minor": 5
}

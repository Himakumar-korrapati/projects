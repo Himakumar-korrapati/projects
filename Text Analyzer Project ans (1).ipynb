{
 "cells": [
  {
   "cell_type": "code",
   "execution_count": 1,
   "id": "59348207-4c00-4feb-b118-ee0535239073",
   "metadata": {},
   "outputs": [
    {
     "name": "stdout",
     "output_type": "stream",
     "text": [
      "Total words: 12\n",
      "Unique words: 10\n",
      "Word            Frequency\n",
      "-------------------------\n",
      "this            2\n",
      "is              2\n",
      "a               1\n",
      "sample          1\n",
      "text            2\n",
      "for             1\n",
      "testing         1\n",
      "word            1\n",
      "frequency       1\n"
     ]
    }
   ],
   "source": [
    "# Sample paragraph\n",
    "text = \"This is a sample text. This text is for testing word frequency.\"\n",
    "\n",
    "# Split text into words\n",
    "words = text.lower().split()\n",
    "\n",
    "# Use set to find unique words\n",
    "unique_words = set(words)\n",
    "\n",
    "# Count word frequencies using a dictionary\n",
    "word_count = {}\n",
    "for word in words:\n",
    "    word = word.strip('.,')  # Removing punctuation\n",
    "    word_count[word] = word_count.get(word, 0) + 1\n",
    "\n",
    "# Function to display word frequencies neatly\n",
    "def display_word_frequencies(word_count):\n",
    "    print(\"Word\".ljust(15), \"Frequency\")\n",
    "    print(\"-\" * 25)\n",
    "    for word, count in word_count.items():\n",
    "        print(f\"{word.ljust(15)} {count}\")\n",
    "\n",
    "# Display results\n",
    "print(f\"Total words: {len(words)}\")\n",
    "print(f\"Unique words: {len(unique_words)}\")\n",
    "display_word_frequencies(word_count)\n"
   ]
  },
  {
   "cell_type": "code",
   "execution_count": null,
   "id": "9fb4bad1-6492-42ee-8de4-415d0f1840d1",
   "metadata": {},
   "outputs": [],
   "source": []
  }
 ],
 "metadata": {
  "kernelspec": {
   "display_name": "Python 3 (ipykernel)",
   "language": "python",
   "name": "python3"
  },
  "language_info": {
   "codemirror_mode": {
    "name": "ipython",
    "version": 3
   },
   "file_extension": ".py",
   "mimetype": "text/x-python",
   "name": "python",
   "nbconvert_exporter": "python",
   "pygments_lexer": "ipython3",
   "version": "3.12.4"
  }
 },
 "nbformat": 4,
 "nbformat_minor": 5
}

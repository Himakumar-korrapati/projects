{
 "cells": [
  {
   "cell_type": "code",
   "execution_count": 20,
   "id": "2a402582-19d1-4ab5-8586-ec9f6fcdc8a6",
   "metadata": {},
   "outputs": [
    {
     "name": "stdin",
     "output_type": "stream",
     "text": [
      "enter amount 5000\n",
      "enter time in yrs 2.5\n",
      "enter amount interst 6.5\n"
     ]
    },
    {
     "name": "stdout",
     "output_type": "stream",
     "text": [
      "812.5\n"
     ]
    }
   ],
   "source": [
    "p = int(input(\"enter amount\"))\n",
    "t = float(input(\"enter time in yrs\"))\n",
    "r = float(input(\"enter amount interst\"))\n",
    "SI = (p * r * t) / 100\n",
    "print(SI)\n",
    "\n",
    "              \n",
    "\n",
    "          \n",
    "          "
   ]
  },
  {
   "cell_type": "code",
   "execution_count": null,
   "id": "c1f2fffa-a3c7-4bf0-8653-e3cc4f0a096f",
   "metadata": {},
   "outputs": [],
   "source": []
  }
 ],
 "metadata": {
  "kernelspec": {
   "display_name": "Python 3 (ipykernel)",
   "language": "python",
   "name": "python3"
  },
  "language_info": {
   "codemirror_mode": {
    "name": "ipython",
    "version": 3
   },
   "file_extension": ".py",
   "mimetype": "text/x-python",
   "name": "python",
   "nbconvert_exporter": "python",
   "pygments_lexer": "ipython3",
   "version": "3.12.4"
  }
 },
 "nbformat": 4,
 "nbformat_minor": 5
}

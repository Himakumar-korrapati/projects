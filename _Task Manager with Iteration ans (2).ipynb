{
 "cells": [
  {
   "cell_type": "code",
   "execution_count": 3,
   "id": "9c849591-6ce8-482b-812e-b2ba6f084f64",
   "metadata": {},
   "outputs": [
    {
     "name": "stdout",
     "output_type": "stream",
     "text": [
      "Name: himakumar\n",
      "Phone: 123-456-7890\n",
      "Email: alice_new@example.com\n",
      "\n",
      "Name: saivenkat\n",
      "Phone: 987-654-3210\n",
      "Email: saivenkat@gmail.com\n",
      "\n",
      "Name: rambhupal\n",
      "Phone: 555-123-4567\n",
      "Email: rambhupal@workmail.com\n",
      "\n",
      "Name: rahul\n",
      "Phone: 333-444-5555\n",
      "Email: rahul888@gmail.com\n",
      "\n",
      "Contacts with Gmail addresses:\n",
      "Name: himakumar\n",
      "Phone: 123-456-7890\n",
      "Email: alice_new@example.com\n",
      "\n",
      "Name: saivenkat\n",
      "Phone: 987-654-3210\n",
      "Email: saivenkat@gmail.com\n",
      "\n"
     ]
    }
   ],
   "source": [
    "# Contact dictionary\n",
    "contacts = {\n",
    "    \"himakumar\": {\"phone\": \"123-456-7890\", \"email\": \"himakumarkorrapati888@gmail.com\"},\n",
    "    \"saivenkat\": {\"phone\": \"987-654-3210\", \"email\": \"saivenkat@gmail.com\"},\n",
    "    \"rambhupal\": {\"phone\": \"555-123-4567\", \"email\": \"rambhupal@workmail.com\"}\n",
    "}\n",
    "\n",
    "# Function to add a new contact\n",
    "def add_contact(name, phone, email):\n",
    "    contacts[name] = {\"phone\": phone, \"email\": email}\n",
    "\n",
    "# Function to update a contact\n",
    "def update_contact(name, phone=None, email=None):\n",
    "    if name in contacts:\n",
    "        if phone:\n",
    "            contacts[name][\"phone\"] = phone\n",
    "        if email:\n",
    "            contacts[name][\"email\"] = email\n",
    "    else:\n",
    "        print(f\"Contact {name} not found.\")\n",
    "\n",
    "# Filter contacts with a Gmail address\n",
    "gmail_contacts = {name: info for name, info in contacts.items() if \"gmail.com\" in info[\"email\"]}\n",
    "\n",
    "# Function to display contact details\n",
    "def display_contact(name, details):\n",
    "    print(f\"Name: {name}\\nPhone: {details['phone']}\\nEmail: {details['email']}\\n\")\n",
    "\n",
    "# Adding a new contact\n",
    "add_contact(\"rahul\", \"333-444-5555\", \"rahul888@gmail.com\")\n",
    "\n",
    "# Updating an existing contact\n",
    "update_contact(\"himakumar\", email=\"alice_new@example.com\")\n",
    "\n",
    "# Display all contacts\n",
    "for name, details in contacts.items():\n",
    "    display_contact(name, details)\n",
    "\n",
    "# Display contacts with Gmail\n",
    "print(\"Contacts with Gmail addresses:\")\n",
    "for name, details in gmail_contacts.items():\n",
    "    display_contact(name, details)\n"
   ]
  },
  {
   "cell_type": "markdown",
   "id": "cd4dcd2e-1bdc-4a11-ae68-f863476b36d2",
   "metadata": {},
   "source": [
    "##### "
   ]
  }
 ],
 "metadata": {
  "kernelspec": {
   "display_name": "Python 3 (ipykernel)",
   "language": "python",
   "name": "python3"
  },
  "language_info": {
   "codemirror_mode": {
    "name": "ipython",
    "version": 3
   },
   "file_extension": ".py",
   "mimetype": "text/x-python",
   "name": "python",
   "nbconvert_exporter": "python",
   "pygments_lexer": "ipython3",
   "version": "3.12.4"
  }
 },
 "nbformat": 4,
 "nbformat_minor": 5
}

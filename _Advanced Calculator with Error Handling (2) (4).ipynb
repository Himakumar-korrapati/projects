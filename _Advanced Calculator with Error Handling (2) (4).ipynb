{
 "cells": [
  {
   "cell_type": "code",
   "execution_count": 3,
   "id": "fc56ad1d-9590-4056-846a-4fef5d3b3d2d",
   "metadata": {},
   "outputs": [
    {
     "name": "stdout",
     "output_type": "stream",
     "text": [
      "Welcome to the Advanced Calculator!\n",
      "Operations: + (Addition), - (Subtraction), * (Multiplication), / (Division)\n"
     ]
    },
    {
     "name": "stdin",
     "output_type": "stream",
     "text": [
      "Enter the first number:  10\n",
      "Enter the second number:  15\n",
      "Enter operation (+, -, *, /):  *\n"
     ]
    },
    {
     "name": "stdout",
     "output_type": "stream",
     "text": [
      "The result of 10.0 * 15.0 is: 150.0\n"
     ]
    },
    {
     "name": "stdin",
     "output_type": "stream",
     "text": [
      "Do you want to perform another calculation? (yes/no):  yes\n",
      "Enter the first number:  50\n",
      "Enter the second number:  25\n",
      "Enter operation (+, -, *, /):  -\n"
     ]
    },
    {
     "name": "stdout",
     "output_type": "stream",
     "text": [
      "The result of 50.0 - 25.0 is: 25.0\n"
     ]
    },
    {
     "name": "stdin",
     "output_type": "stream",
     "text": [
      "Do you want to perform another calculation? (yes/no):  yes\n",
      "Enter the first number:  100\n",
      "Enter the second number:  50\n",
      "Enter operation (+, -, *, /):  /\n"
     ]
    },
    {
     "name": "stdout",
     "output_type": "stream",
     "text": [
      "The result of 100.0 / 50.0 is: 2.0\n"
     ]
    },
    {
     "name": "stdin",
     "output_type": "stream",
     "text": [
      "Do you want to perform another calculation? (yes/no):  yes\n",
      "Enter the first number:  25\n",
      "Enter the second number:  25\n",
      "Enter operation (+, -, *, /):  +\n"
     ]
    },
    {
     "name": "stdout",
     "output_type": "stream",
     "text": [
      "The result of 25.0 + 25.0 is: 50.0\n"
     ]
    },
    {
     "name": "stdin",
     "output_type": "stream",
     "text": [
      "Do you want to perform another calculation? (yes/no):  no\n"
     ]
    },
    {
     "name": "stdout",
     "output_type": "stream",
     "text": [
      "Exiting calculator. Goodbye!\n"
     ]
    }
   ],
   "source": [
    "# Function to perform addition of two numbers\n",
    "def add(x, y):\n",
    "    return x + y # Returns the sum of x and y\n",
    "# Function to perform subtraction of two numbers\n",
    "def subtract(x, y):\n",
    "    return x - y # Returns the sub of x and y\n",
    "# Function to perform multiple of two numbers\n",
    "def multiply(x, y):\n",
    "    return x * y # Returns the sub of x and y\n",
    "# Function to perform division of two numbers\n",
    "def divide(x, y):\n",
    "    if y == 0:\n",
    "        raise ValueError(\"Error: Division by zero is not allowed.\")\n",
    "    return x / y\n",
    "# Main function to run the calculator\n",
    "def calculator():\n",
    "    # Display a welcome message and the operations available\n",
    "    print(\"Welcome to the Advanced Calculator!\")\n",
    "    print(\"Operations: + (Addition), - (Subtraction), * (Multiplication), / (Division)\")\n",
    "# Infinite loop to keep the calculator running until the user chooses to exit\n",
    "    while True:\n",
    "        try:\n",
    "            num1 = float(input(\"Enter the first number: \"))\n",
    "            num2 = float(input(\"Enter the second number: \"))\n",
    "            operation = input(\"Enter operation (+, -, *, /): \")\n",
    "# Perform the selected operation based on user input\n",
    "            if operation == '+':\n",
    "                print(f\"The result of {num1} + {num2} is: {add(num1, num2)}\")\n",
    "            elif operation == '-':\n",
    "                print(f\"The result of {num1} - {num2} is: {subtract(num1, num2)}\")\n",
    "            elif operation == '*':\n",
    "                print(f\"The result of {num1} * {num2} is: {multiply(num1, num2)}\")\n",
    "            elif operation == '/':\n",
    "                print(f\"The result of {num1} / {num2} is: {divide(num1, num2)}\")\n",
    "            else:\n",
    "                print(\"Error: Invalid operation. Please choose one of +, -, *, /.\")\n",
    "        \n",
    "        except ValueError as e:\n",
    "            # Handle invalid input (non-numeric or division by zero)\n",
    "            print(f\"Invalid input or error: {e}\")\n",
    "        \n",
    "        except Exception as e:\n",
    "            print(f\"An unexpected error occurred: {e}\")\n",
    "\n",
    "        cont = input(\"Do you want to perform another calculation? (yes/no): \").lower()\n",
    "        if cont != 'yes':\n",
    "            print(\"Exiting calculator. Goodbye!\")\n",
    "            break\n",
    "\n",
    "if __name__ == \"__main__\":\n",
    "    calculator()\n"
   ]
  },
  {
   "cell_type": "code",
   "execution_count": null,
   "id": "e2de43d2-882e-4618-91ce-6e0db4317d1d",
   "metadata": {},
   "outputs": [],
   "source": []
  },
  {
   "cell_type": "code",
   "execution_count": null,
   "id": "20944a52-5598-4ace-8167-149e6164167e",
   "metadata": {},
   "outputs": [],
   "source": []
  }
 ],
 "metadata": {
  "kernelspec": {
   "display_name": "Python 3 (ipykernel)",
   "language": "python",
   "name": "python3"
  },
  "language_info": {
   "codemirror_mode": {
    "name": "ipython",
    "version": 3
   },
   "file_extension": ".py",
   "mimetype": "text/x-python",
   "name": "python",
   "nbconvert_exporter": "python",
   "pygments_lexer": "ipython3",
   "version": "3.12.4"
  }
 },
 "nbformat": 4,
 "nbformat_minor": 5
}
